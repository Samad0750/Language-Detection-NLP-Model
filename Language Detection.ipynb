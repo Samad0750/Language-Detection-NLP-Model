{
 "cells": [
  {
   "cell_type": "markdown",
   "id": "f4af7b1a-5b1e-4429-8f6a-1f281d8ff98e",
   "metadata": {},
   "source": [
    "## IMPORTING LIBRARIES"
   ]
  },
  {
   "cell_type": "code",
   "execution_count": 2,
   "id": "d2108744-ddf4-455c-8bac-2a5e5b0f5828",
   "metadata": {},
   "outputs": [],
   "source": [
    "import pandas as pd\n",
    "import numpy as np\n",
    "from sklearn.model_selection import train_test_split\n",
    "from sklearn.feature_extraction.text import CountVectorizer\n",
    "from sklearn.feature_extraction.text import TfidfVectorizer\n",
    "from sklearn.naive_bayes import MultinomialNB\n",
    "from sklearn.metrics import accuracy_score, mean_squared_error\n",
    "from sklearn.preprocessing import LabelEncoder"
   ]
  },
  {
   "cell_type": "code",
   "execution_count": 3,
   "id": "30cc9227-4a44-4598-8266-532d32a2fee8",
   "metadata": {},
   "outputs": [
    {
     "data": {
      "text/html": [
       "<div>\n",
       "<style scoped>\n",
       "    .dataframe tbody tr th:only-of-type {\n",
       "        vertical-align: middle;\n",
       "    }\n",
       "\n",
       "    .dataframe tbody tr th {\n",
       "        vertical-align: top;\n",
       "    }\n",
       "\n",
       "    .dataframe thead th {\n",
       "        text-align: right;\n",
       "    }\n",
       "</style>\n",
       "<table border=\"1\" class=\"dataframe\">\n",
       "  <thead>\n",
       "    <tr style=\"text-align: right;\">\n",
       "      <th></th>\n",
       "      <th>Text</th>\n",
       "      <th>language</th>\n",
       "    </tr>\n",
       "  </thead>\n",
       "  <tbody>\n",
       "    <tr>\n",
       "      <th>0</th>\n",
       "      <td>klement gottwaldi surnukeha palsameeriti ning ...</td>\n",
       "      <td>Estonian</td>\n",
       "    </tr>\n",
       "    <tr>\n",
       "      <th>1</th>\n",
       "      <td>sebes joseph pereira thomas  på eng the jesuit...</td>\n",
       "      <td>Swedish</td>\n",
       "    </tr>\n",
       "    <tr>\n",
       "      <th>2</th>\n",
       "      <td>ถนนเจริญกรุง อักษรโรมัน thanon charoen krung เ...</td>\n",
       "      <td>Thai</td>\n",
       "    </tr>\n",
       "    <tr>\n",
       "      <th>3</th>\n",
       "      <td>விசாகப்பட்டினம் தமிழ்ச்சங்கத்தை இந்துப் பத்திர...</td>\n",
       "      <td>Tamil</td>\n",
       "    </tr>\n",
       "    <tr>\n",
       "      <th>4</th>\n",
       "      <td>de spons behoort tot het geslacht haliclona en...</td>\n",
       "      <td>Dutch</td>\n",
       "    </tr>\n",
       "  </tbody>\n",
       "</table>\n",
       "</div>"
      ],
      "text/plain": [
       "                                                Text  language\n",
       "0  klement gottwaldi surnukeha palsameeriti ning ...  Estonian\n",
       "1  sebes joseph pereira thomas  på eng the jesuit...   Swedish\n",
       "2  ถนนเจริญกรุง อักษรโรมัน thanon charoen krung เ...      Thai\n",
       "3  விசாகப்பட்டினம் தமிழ்ச்சங்கத்தை இந்துப் பத்திர...     Tamil\n",
       "4  de spons behoort tot het geslacht haliclona en...     Dutch"
      ]
     },
     "execution_count": 3,
     "metadata": {},
     "output_type": "execute_result"
    }
   ],
   "source": [
    "df=pd.read_csv('language.csv')\n",
    "df.head()"
   ]
  },
  {
   "cell_type": "markdown",
   "id": "74bb0236-c84d-4fc1-ad25-7c77af309291",
   "metadata": {},
   "source": [
    "## SOME BASIC EDA"
   ]
  },
  {
   "cell_type": "code",
   "execution_count": 5,
   "id": "82081b32-7ad3-4190-b145-b015262bebc8",
   "metadata": {},
   "outputs": [
    {
     "name": "stdout",
     "output_type": "stream",
     "text": [
      "<class 'pandas.core.frame.DataFrame'>\n",
      "RangeIndex: 22000 entries, 0 to 21999\n",
      "Data columns (total 2 columns):\n",
      " #   Column    Non-Null Count  Dtype \n",
      "---  ------    --------------  ----- \n",
      " 0   Text      22000 non-null  object\n",
      " 1   language  22000 non-null  object\n",
      "dtypes: object(2)\n",
      "memory usage: 343.9+ KB\n"
     ]
    }
   ],
   "source": [
    "df.info()"
   ]
  },
  {
   "cell_type": "code",
   "execution_count": 6,
   "id": "5ccf399c-3632-48f7-85ee-3e2cb732eab5",
   "metadata": {},
   "outputs": [
    {
     "data": {
      "text/plain": [
       "Text        0\n",
       "language    0\n",
       "dtype: int64"
      ]
     },
     "execution_count": 6,
     "metadata": {},
     "output_type": "execute_result"
    }
   ],
   "source": [
    "df.isnull().sum()"
   ]
  },
  {
   "cell_type": "code",
   "execution_count": 7,
   "id": "3d4279c6-63fa-418d-983d-fef055744175",
   "metadata": {},
   "outputs": [
    {
     "data": {
      "text/plain": [
       "Text        21859\n",
       "language       22\n",
       "dtype: int64"
      ]
     },
     "execution_count": 7,
     "metadata": {},
     "output_type": "execute_result"
    }
   ],
   "source": [
    "df.nunique() "
   ]
  },
  {
   "cell_type": "code",
   "execution_count": 8,
   "id": "842a62a5-8896-425a-9dfa-99958cef4eb4",
   "metadata": {},
   "outputs": [
    {
     "data": {
      "text/plain": [
       "language\n",
       "Estonian      1000\n",
       "Swedish       1000\n",
       "English       1000\n",
       "Russian       1000\n",
       "Romanian      1000\n",
       "Persian       1000\n",
       "Pushto        1000\n",
       "Spanish       1000\n",
       "Hindi         1000\n",
       "Korean        1000\n",
       "Chinese       1000\n",
       "French        1000\n",
       "Portugese     1000\n",
       "Indonesian    1000\n",
       "Urdu          1000\n",
       "Latin         1000\n",
       "Turkish       1000\n",
       "Japanese      1000\n",
       "Dutch         1000\n",
       "Tamil         1000\n",
       "Thai          1000\n",
       "Arabic        1000\n",
       "Name: count, dtype: int64"
      ]
     },
     "execution_count": 8,
     "metadata": {},
     "output_type": "execute_result"
    }
   ],
   "source": [
    "df['language'].value_counts() "
   ]
  },
  {
   "cell_type": "code",
   "execution_count": 9,
   "id": "76201f79-0199-4ab9-83e5-5a302976b2dc",
   "metadata": {},
   "outputs": [
    {
     "data": {
      "text/html": [
       "<div>\n",
       "<style scoped>\n",
       "    .dataframe tbody tr th:only-of-type {\n",
       "        vertical-align: middle;\n",
       "    }\n",
       "\n",
       "    .dataframe tbody tr th {\n",
       "        vertical-align: top;\n",
       "    }\n",
       "\n",
       "    .dataframe thead th {\n",
       "        text-align: right;\n",
       "    }\n",
       "</style>\n",
       "<table border=\"1\" class=\"dataframe\">\n",
       "  <thead>\n",
       "    <tr style=\"text-align: right;\">\n",
       "      <th></th>\n",
       "      <th>Text</th>\n",
       "      <th>language</th>\n",
       "    </tr>\n",
       "  </thead>\n",
       "  <tbody>\n",
       "    <tr>\n",
       "      <th>14735</th>\n",
       "      <td>in januari van  veroverde zengi de steden sarj...</td>\n",
       "      <td>Dutch</td>\n",
       "    </tr>\n",
       "    <tr>\n",
       "      <th>21370</th>\n",
       "      <td>aktör  aralık  tarihinde joaquin phoenixin kar...</td>\n",
       "      <td>Turkish</td>\n",
       "    </tr>\n",
       "    <tr>\n",
       "      <th>13804</th>\n",
       "      <td>由于当年消息欠公开，之后的情况以及最终的遇难人数未有官方正式公布。现在的媒体报道为、、、 人...</td>\n",
       "      <td>Chinese</td>\n",
       "    </tr>\n",
       "    <tr>\n",
       "      <th>20124</th>\n",
       "      <td>في سبتمبر  حصلت شركة أمين أويل الأمريكية على ا...</td>\n",
       "      <td>Arabic</td>\n",
       "    </tr>\n",
       "    <tr>\n",
       "      <th>14165</th>\n",
       "      <td>al-andalus atau semenanjung iberia spanyol dan...</td>\n",
       "      <td>Indonesian</td>\n",
       "    </tr>\n",
       "    <tr>\n",
       "      <th>9420</th>\n",
       "      <td>beberapa waktu setelah tahun  peneliti kitab s...</td>\n",
       "      <td>Indonesian</td>\n",
       "    </tr>\n",
       "    <tr>\n",
       "      <th>16391</th>\n",
       "      <td>burada görev yaparken anadoluda celali i̇syanl...</td>\n",
       "      <td>Turkish</td>\n",
       "    </tr>\n",
       "    <tr>\n",
       "      <th>13418</th>\n",
       "      <td>jason barnes en mark tullo maakten een goede r...</td>\n",
       "      <td>Dutch</td>\n",
       "    </tr>\n",
       "    <tr>\n",
       "      <th>14330</th>\n",
       "      <td>el municipio de homer se encuentra ubicado en ...</td>\n",
       "      <td>Spanish</td>\n",
       "    </tr>\n",
       "    <tr>\n",
       "      <th>10099</th>\n",
       "      <td>em  john consegue contrato com a fantasy recor...</td>\n",
       "      <td>Portugese</td>\n",
       "    </tr>\n",
       "  </tbody>\n",
       "</table>\n",
       "</div>"
      ],
      "text/plain": [
       "                                                    Text    language\n",
       "14735  in januari van  veroverde zengi de steden sarj...       Dutch\n",
       "21370  aktör  aralık  tarihinde joaquin phoenixin kar...     Turkish\n",
       "13804  由于当年消息欠公开，之后的情况以及最终的遇难人数未有官方正式公布。现在的媒体报道为、、、 人...     Chinese\n",
       "20124  في سبتمبر  حصلت شركة أمين أويل الأمريكية على ا...      Arabic\n",
       "14165  al-andalus atau semenanjung iberia spanyol dan...  Indonesian\n",
       "9420   beberapa waktu setelah tahun  peneliti kitab s...  Indonesian\n",
       "16391  burada görev yaparken anadoluda celali i̇syanl...     Turkish\n",
       "13418  jason barnes en mark tullo maakten een goede r...       Dutch\n",
       "14330  el municipio de homer se encuentra ubicado en ...     Spanish\n",
       "10099  em  john consegue contrato com a fantasy recor...   Portugese"
      ]
     },
     "execution_count": 9,
     "metadata": {},
     "output_type": "execute_result"
    }
   ],
   "source": [
    "df.sample(10)"
   ]
  },
  {
   "cell_type": "code",
   "execution_count": 10,
   "id": "e075eabf-04cd-44fb-aed8-6722de73755e",
   "metadata": {},
   "outputs": [
    {
     "data": {
      "text/html": [
       "<div>\n",
       "<style scoped>\n",
       "    .dataframe tbody tr th:only-of-type {\n",
       "        vertical-align: middle;\n",
       "    }\n",
       "\n",
       "    .dataframe tbody tr th {\n",
       "        vertical-align: top;\n",
       "    }\n",
       "\n",
       "    .dataframe thead th {\n",
       "        text-align: right;\n",
       "    }\n",
       "</style>\n",
       "<table border=\"1\" class=\"dataframe\">\n",
       "  <thead>\n",
       "    <tr style=\"text-align: right;\">\n",
       "      <th></th>\n",
       "      <th>Text</th>\n",
       "      <th>language</th>\n",
       "    </tr>\n",
       "  </thead>\n",
       "  <tbody>\n",
       "    <tr>\n",
       "      <th>2450</th>\n",
       "      <td>छह टीमों को टूर्नामेंट में भाग लेंगे बांग्लादे...</td>\n",
       "      <td>Hindi</td>\n",
       "    </tr>\n",
       "    <tr>\n",
       "      <th>13641</th>\n",
       "      <td>राजकुमारी का मन लगाने के लिए सखी-सहोलियाँ थीं।...</td>\n",
       "      <td>Hindi</td>\n",
       "    </tr>\n",
       "    <tr>\n",
       "      <th>6252</th>\n",
       "      <td>मनुष्य का जीवनकाल अत्यन्त कम है और् ज्ञान का व...</td>\n",
       "      <td>Hindi</td>\n",
       "    </tr>\n",
       "    <tr>\n",
       "      <th>10376</th>\n",
       "      <td>घास शाकीय पौधों या शिंबी पादपों को काटने के बा...</td>\n",
       "      <td>Hindi</td>\n",
       "    </tr>\n",
       "    <tr>\n",
       "      <th>8165</th>\n",
       "      <td>अंग्रेज़ी में samely कोई क्रियाविशेषण नहीं है।...</td>\n",
       "      <td>Hindi</td>\n",
       "    </tr>\n",
       "  </tbody>\n",
       "</table>\n",
       "</div>"
      ],
      "text/plain": [
       "                                                    Text language\n",
       "2450   छह टीमों को टूर्नामेंट में भाग लेंगे बांग्लादे...    Hindi\n",
       "13641  राजकुमारी का मन लगाने के लिए सखी-सहोलियाँ थीं।...    Hindi\n",
       "6252   मनुष्य का जीवनकाल अत्यन्त कम है और् ज्ञान का व...    Hindi\n",
       "10376  घास शाकीय पौधों या शिंबी पादपों को काटने के बा...    Hindi\n",
       "8165   अंग्रेज़ी में samely कोई क्रियाविशेषण नहीं है।...    Hindi"
      ]
     },
     "execution_count": 10,
     "metadata": {},
     "output_type": "execute_result"
    }
   ],
   "source": [
    "df[df['language']=='Hindi'].sample(5)"
   ]
  },
  {
   "cell_type": "markdown",
   "id": "0622dae1-c11c-49d6-aff0-11a9c51f2978",
   "metadata": {},
   "source": [
    "## Data Preprocessing"
   ]
  },
  {
   "cell_type": "markdown",
   "id": "7b5d5c04-2808-44b2-aa5d-d9fe2c46eb42",
   "metadata": {},
   "source": [
    "## 1. Count vectorizer----> BOW\n"
   ]
  },
  {
   "cell_type": "code",
   "execution_count": 13,
   "id": "8081ed0b-da83-40ea-ab16-215da9d4e124",
   "metadata": {},
   "outputs": [],
   "source": [
    "x=np.array(df['Text'])\n",
    "y=np.array(df['language'])"
   ]
  },
  {
   "cell_type": "code",
   "execution_count": 14,
   "id": "eea51c0f-7e44-4769-90a1-6cd7135f2882",
   "metadata": {},
   "outputs": [],
   "source": [
    "cv=CountVectorizer()"
   ]
  },
  {
   "cell_type": "code",
   "execution_count": 15,
   "id": "f6c5a3ec-b9ea-4b43-8d89-242cb4c43f01",
   "metadata": {},
   "outputs": [],
   "source": [
    "X=cv.fit_transform(x)"
   ]
  },
  {
   "cell_type": "code",
   "execution_count": 16,
   "id": "7b8c7df7-5067-428d-9832-259382141758",
   "metadata": {},
   "outputs": [
    {
     "name": "stdout",
     "output_type": "stream",
     "text": [
      "  (0, 57772)\t1\n",
      "  (0, 43363)\t1\n",
      "  (0, 104967)\t3\n",
      "  (0, 80287)\t1\n",
      "  (0, 75304)\t2\n",
      "  (0, 80056)\t1\n",
      "  (0, 67653)\t1\n",
      "  (0, 77619)\t1\n",
      "  (0, 2193)\t1\n",
      "  (0, 63122)\t1\n",
      "  (0, 47020)\t1\n",
      "  (0, 53103)\t2\n",
      "  (0, 79323)\t1\n",
      "  (0, 80288)\t1\n",
      "  (0, 45293)\t1\n",
      "  (0, 49445)\t1\n",
      "  (0, 60954)\t1\n",
      "  (0, 112024)\t1\n",
      "  (0, 136)\t1\n",
      "  (0, 117124)\t1\n",
      "  (0, 106285)\t1\n",
      "  (0, 67654)\t1\n",
      "  (0, 122429)\t1\n",
      "  (0, 59244)\t1\n",
      "  (0, 122097)\t1\n",
      "  (0, 63450)\t2\n",
      "  (0, 55264)\t2\n",
      "  (0, 153)\t2\n",
      "  (0, 75247)\t2\n",
      "  (0, 43364)\t1\n",
      "  (0, 113245)\t1\n",
      "  (0, 45787)\t1\n",
      "  (0, 76696)\t1\n",
      "  (0, 122098)\t1\n",
      "  (0, 43365)\t1\n"
     ]
    }
   ],
   "source": [
    "print(X[0])"
   ]
  },
  {
   "cell_type": "code",
   "execution_count": 17,
   "id": "d4999316-b63b-4f56-b4dc-42d78df4933b",
   "metadata": {},
   "outputs": [
    {
     "data": {
      "text/plain": [
       "'klement gottwaldi surnukeha palsameeriti ning paigutati mausoleumi surnukeha oli aga liiga hilja ja oskamatult palsameeritud ning hakkas ilmutama lagunemise tundemärke  aastal viidi ta surnukeha mausoleumist ära ja kremeeriti zlíni linn kandis aastatel – nime gottwaldov ukrainas harkivi oblastis kandis zmiivi linn aastatel – nime gotvald'"
      ]
     },
     "execution_count": 17,
     "metadata": {},
     "output_type": "execute_result"
    }
   ],
   "source": [
    "x[0]"
   ]
  },
  {
   "cell_type": "code",
   "execution_count": 18,
   "id": "bdb6d460-afa1-4af3-9e6d-f820fb02ccca",
   "metadata": {},
   "outputs": [
    {
     "name": "stdout",
     "output_type": "stream",
     "text": [
      "['Estonian' 'Swedish' 'Thai' ... 'Spanish' 'Chinese' 'Romanian']\n"
     ]
    }
   ],
   "source": [
    "print(y)"
   ]
  },
  {
   "cell_type": "markdown",
   "id": "23181bab-882c-49c1-95d6-34b8a395afb6",
   "metadata": {},
   "source": [
    "## Fiting the Count Vectorizer Model"
   ]
  },
  {
   "cell_type": "code",
   "execution_count": 20,
   "id": "1b7db567-8e36-49d0-ba0c-f3188c305fc0",
   "metadata": {},
   "outputs": [],
   "source": [
    "cv=CountVectorizer()\n",
    "X=cv.fit_transform(x)"
   ]
  },
  {
   "cell_type": "code",
   "execution_count": 21,
   "id": "a610d7c7-3b3f-479b-b8bd-266540b35321",
   "metadata": {},
   "outputs": [],
   "source": [
    "X_train,X_test,y_train,y_test=train_test_split(X,y,test_size=0.3,random_state=42)"
   ]
  },
  {
   "cell_type": "code",
   "execution_count": 22,
   "id": "bda99156-e3df-4a17-a28a-6342e486c421",
   "metadata": {},
   "outputs": [],
   "source": [
    "model1=MultinomialNB()"
   ]
  },
  {
   "cell_type": "code",
   "execution_count": 23,
   "id": "a8828ec5-e929-40b3-822e-6b502135a602",
   "metadata": {},
   "outputs": [
    {
     "data": {
      "text/plain": [
       "0.9528787878787879"
      ]
     },
     "execution_count": 23,
     "metadata": {},
     "output_type": "execute_result"
    }
   ],
   "source": [
    "model1.fit(X_train,y_train)\n",
    "model1.score(X_test,y_test)\n"
   ]
  },
  {
   "cell_type": "code",
   "execution_count": 24,
   "id": "45b2c4ba-6fc8-4e07-ab8b-383bd0731587",
   "metadata": {},
   "outputs": [
    {
     "name": "stdin",
     "output_type": "stream",
     "text": [
      "Enter a text میری طرف دیکھو\n"
     ]
    },
    {
     "name": "stdout",
     "output_type": "stream",
     "text": [
      "['Urdu']\n"
     ]
    }
   ],
   "source": [
    "user=input(\"Enter a text\")\n",
    "data=cv.transform([user]).toarray()\n",
    "output=model1.predict(data)\n",
    "print(output)"
   ]
  },
  {
   "cell_type": "markdown",
   "id": "28be5268-4765-4917-bd45-7dddfdf405a8",
   "metadata": {},
   "source": [
    "## 2. TF-IDF "
   ]
  },
  {
   "cell_type": "code",
   "execution_count": 26,
   "id": "f21a0bd4-fc80-4fa6-ac66-8bb21ffaf90b",
   "metadata": {},
   "outputs": [],
   "source": [
    "tfidf=TfidfVectorizer()"
   ]
  },
  {
   "cell_type": "code",
   "execution_count": 27,
   "id": "fa346f13-ca2c-48e5-a421-10947defc897",
   "metadata": {},
   "outputs": [],
   "source": [
    "X=tfidf.fit_transform(x)"
   ]
  },
  {
   "cell_type": "code",
   "execution_count": 28,
   "id": "bdb200ca-3a5c-40fc-b3a9-9667b025bfb2",
   "metadata": {},
   "outputs": [
    {
     "name": "stdout",
     "output_type": "stream",
     "text": [
      "  (0, 43365)\t0.15245962403688543\n",
      "  (0, 122098)\t0.15245962403688543\n",
      "  (0, 76696)\t0.13890427169403846\n",
      "  (0, 45787)\t0.15245962403688543\n",
      "  (0, 113245)\t0.13890427169403846\n",
      "  (0, 43364)\t0.15245962403688543\n",
      "  (0, 75247)\t0.22902894148770514\n",
      "  (0, 153)\t0.2155525828166711\n",
      "  (0, 55264)\t0.2678531884721598\n",
      "  (0, 63450)\t0.24339387890154524\n",
      "  (0, 122097)\t0.15245962403688543\n",
      "  (0, 59244)\t0.15245962403688543\n",
      "  (0, 122429)\t0.11632821567894924\n",
      "  (0, 67654)\t0.15245962403688543\n",
      "  (0, 106285)\t0.0828549222249433\n",
      "  (0, 117124)\t0.1339265942360799\n",
      "  (0, 136)\t0.08509082541842236\n",
      "  (0, 112024)\t0.15245962403688543\n",
      "  (0, 60954)\t0.14646128506875586\n",
      "  (0, 49445)\t0.15245962403688543\n",
      "  (0, 45293)\t0.12265170453053793\n",
      "  (0, 80288)\t0.15245962403688543\n",
      "  (0, 79323)\t0.15245962403688543\n",
      "  (0, 53103)\t0.13228208686853668\n",
      "  (0, 47020)\t0.14646128506875586\n",
      "  (0, 63122)\t0.1339265942360799\n",
      "  (0, 2193)\t0.10029161912723429\n",
      "  (0, 77619)\t0.08182087878336174\n",
      "  (0, 67653)\t0.15245962403688543\n",
      "  (0, 80056)\t0.14646128506875586\n",
      "  (0, 75304)\t0.16625026948941635\n",
      "  (0, 80287)\t0.15245962403688543\n",
      "  (0, 104967)\t0.42661618752454344\n",
      "  (0, 43363)\t0.15245962403688543\n",
      "  (0, 57772)\t0.13890427169403846\n"
     ]
    }
   ],
   "source": [
    "print(X[0])"
   ]
  },
  {
   "cell_type": "code",
   "execution_count": 29,
   "id": "326aaaf3-71f9-4e37-9fb7-465b4e3b71c5",
   "metadata": {},
   "outputs": [],
   "source": [
    "X_train,X_test,y_train,y_test=train_test_split(X,y,test_size=0.3,random_state=42)"
   ]
  },
  {
   "cell_type": "code",
   "execution_count": 30,
   "id": "94ff888b-39b9-4bee-ae0d-80efeef6541e",
   "metadata": {},
   "outputs": [],
   "source": [
    "model2=MultinomialNB()"
   ]
  },
  {
   "cell_type": "code",
   "execution_count": 31,
   "id": "d951f149-866e-49b1-bd19-58695a12845d",
   "metadata": {},
   "outputs": [
    {
     "data": {
      "text/plain": [
       "0.9571212121212122"
      ]
     },
     "execution_count": 31,
     "metadata": {},
     "output_type": "execute_result"
    }
   ],
   "source": [
    "model2.fit(X_train,y_train)\n",
    "model2.score(X_test,y_test)"
   ]
  },
  {
   "cell_type": "code",
   "execution_count": 32,
   "id": "48977c42-7870-4470-8984-9a825dd1f880",
   "metadata": {},
   "outputs": [
    {
     "name": "stdin",
     "output_type": "stream",
     "text": [
      "Enter a text O primeiro andar deste prédio está vazio\n"
     ]
    },
    {
     "name": "stdout",
     "output_type": "stream",
     "text": [
      "['Portugese']\n"
     ]
    }
   ],
   "source": [
    "user=input(\"Enter a text\")\n",
    "data=cv.transform([user]).toarray()\n",
    "output=model2.predict(data)\n",
    "print(output)"
   ]
  },
  {
   "cell_type": "markdown",
   "id": "1e6bc124-31d1-4621-b8c7-9c222e698d43",
   "metadata": {},
   "source": [
    "## n_grams"
   ]
  },
  {
   "cell_type": "code",
   "execution_count": 34,
   "id": "c9894ec8-2f96-45a2-91b4-644ef5b40f10",
   "metadata": {},
   "outputs": [],
   "source": [
    "cv=CountVectorizer(ngram_range=(1,2))\n",
    "X=cv.fit_transform(x)"
   ]
  },
  {
   "cell_type": "code",
   "execution_count": 35,
   "id": "2e6ec890-f569-48eb-bb5a-6ac766d61aeb",
   "metadata": {},
   "outputs": [],
   "source": [
    "X_train,X_test,y_train,y_test=train_test_split(X,y,test_size=0.3,random_state=42)"
   ]
  },
  {
   "cell_type": "code",
   "execution_count": 36,
   "id": "e83b2df1-f891-49a8-aae2-bfc60fdbae65",
   "metadata": {},
   "outputs": [],
   "source": [
    "model3=MultinomialNB()"
   ]
  },
  {
   "cell_type": "code",
   "execution_count": 37,
   "id": "41a05da8-6111-49dc-a4ec-fb041d9fe733",
   "metadata": {},
   "outputs": [
    {
     "data": {
      "text/plain": [
       "0.953939393939394"
      ]
     },
     "execution_count": 37,
     "metadata": {},
     "output_type": "execute_result"
    }
   ],
   "source": [
    "model3.fit(X_train,y_train)\n",
    "model3.score(X_test,y_test)"
   ]
  },
  {
   "cell_type": "markdown",
   "id": "68f8b2c9-a772-4697-9ecc-343223642ddd",
   "metadata": {},
   "source": [
    "# Conclusion\n",
    "## Applying BOW technique we get an accuracy of 95.28%\n",
    "## Applying Tf-Idf technique we get an accuracy of 95.7%\n",
    "## Applying n_grams technique we get an accuracy of 95.3%"
   ]
  },
  {
   "cell_type": "markdown",
   "id": "1081967f-e601-4030-a10e-4624da086b3b",
   "metadata": {},
   "source": [
    "## Thank you"
   ]
  },
  {
   "cell_type": "code",
   "execution_count": null,
   "id": "027187d9-fc25-4fb8-8797-e0b7c64e311c",
   "metadata": {},
   "outputs": [],
   "source": []
  },
  {
   "cell_type": "code",
   "execution_count": null,
   "id": "18b83ce5-e478-4c2a-a7dc-3aadb8cffd83",
   "metadata": {},
   "outputs": [],
   "source": []
  }
 ],
 "metadata": {
  "kernelspec": {
   "display_name": "Python 3 (ipykernel)",
   "language": "python",
   "name": "python3"
  },
  "language_info": {
   "codemirror_mode": {
    "name": "ipython",
    "version": 3
   },
   "file_extension": ".py",
   "mimetype": "text/x-python",
   "name": "python",
   "nbconvert_exporter": "python",
   "pygments_lexer": "ipython3",
   "version": "3.12.4"
  }
 },
 "nbformat": 4,
 "nbformat_minor": 5
}
